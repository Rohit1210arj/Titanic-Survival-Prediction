{
  "nbformat": 4,
  "nbformat_minor": 0,
  "metadata": {
    "colab": {
      "provenance": [],
      "mount_file_id": "1O4CCYcEgclY7y3tgJ5vQLcWJy20REHK4",
      "authorship_tag": "ABX9TyM6HuCAP+LAmtFhBQ8OiG5I",
      "include_colab_link": true
    },
    "kernelspec": {
      "name": "python3",
      "display_name": "Python 3"
    },
    "language_info": {
      "name": "python"
    }
  },
  "cells": [
    {
      "cell_type": "markdown",
      "metadata": {
        "id": "view-in-github",
        "colab_type": "text"
      },
      "source": [
        "<a href=\"https://colab.research.google.com/github/Rohit1210arj/Titanic-Survival-Prediction/blob/main/Titanic_Survival_Prediction.ipynb\" target=\"_parent\"><img src=\"https://colab.research.google.com/assets/colab-badge.svg\" alt=\"Open In Colab\"/></a>"
      ]
    },
    {
      "cell_type": "code",
      "source": [
        "import pandas as pd\n",
        "\n",
        "# Load the dataset\n",
        "file_path = \"/content/tested.csv\"\n",
        "df = pd.read_csv(file_path)\n",
        "\n",
        "# Display basic info and first few rows\n",
        "df.info(), df.head()"
      ],
      "metadata": {
        "colab": {
          "base_uri": "https://localhost:8080/"
        },
        "id": "vP4bLlZhRxrB",
        "outputId": "f8fa9d85-acc9-48b3-d064-4113e0f7c31c"
      },
      "execution_count": 8,
      "outputs": [
        {
          "output_type": "stream",
          "name": "stdout",
          "text": [
            "<class 'pandas.core.frame.DataFrame'>\n",
            "RangeIndex: 418 entries, 0 to 417\n",
            "Data columns (total 12 columns):\n",
            " #   Column       Non-Null Count  Dtype  \n",
            "---  ------       --------------  -----  \n",
            " 0   PassengerId  418 non-null    int64  \n",
            " 1   Survived     418 non-null    int64  \n",
            " 2   Pclass       418 non-null    int64  \n",
            " 3   Name         418 non-null    object \n",
            " 4   Sex          418 non-null    object \n",
            " 5   Age          332 non-null    float64\n",
            " 6   SibSp        418 non-null    int64  \n",
            " 7   Parch        418 non-null    int64  \n",
            " 8   Ticket       418 non-null    object \n",
            " 9   Fare         417 non-null    float64\n",
            " 10  Cabin        91 non-null     object \n",
            " 11  Embarked     418 non-null    object \n",
            "dtypes: float64(2), int64(5), object(5)\n",
            "memory usage: 39.3+ KB\n"
          ]
        },
        {
          "output_type": "execute_result",
          "data": {
            "text/plain": [
              "(None,\n",
              "    PassengerId  Survived  Pclass  \\\n",
              " 0          892         0       3   \n",
              " 1          893         1       3   \n",
              " 2          894         0       2   \n",
              " 3          895         0       3   \n",
              " 4          896         1       3   \n",
              " \n",
              "                                            Name     Sex   Age  SibSp  Parch  \\\n",
              " 0                              Kelly, Mr. James    male  34.5      0      0   \n",
              " 1              Wilkes, Mrs. James (Ellen Needs)  female  47.0      1      0   \n",
              " 2                     Myles, Mr. Thomas Francis    male  62.0      0      0   \n",
              " 3                              Wirz, Mr. Albert    male  27.0      0      0   \n",
              " 4  Hirvonen, Mrs. Alexander (Helga E Lindqvist)  female  22.0      1      1   \n",
              " \n",
              "     Ticket     Fare Cabin Embarked  \n",
              " 0   330911   7.8292   NaN        Q  \n",
              " 1   363272   7.0000   NaN        S  \n",
              " 2   240276   9.6875   NaN        Q  \n",
              " 3   315154   8.6625   NaN        S  \n",
              " 4  3101298  12.2875   NaN        S  )"
            ]
          },
          "metadata": {},
          "execution_count": 8
        }
      ]
    },
    {
      "cell_type": "code",
      "source": [
        "from sklearn.model_selection import train_test_split\n",
        "from sklearn.preprocessing import LabelEncoder, StandardScaler\n",
        "from sklearn.ensemble import RandomForestClassifier\n",
        "from sklearn.metrics import accuracy_score, classification_report\n",
        "\n",
        "# Drop unnecessary columns\n",
        "df.drop(columns=[\"PassengerId\", \"Name\", \"Ticket\", \"Cabin\"], inplace=True)\n",
        "\n",
        "# Fill missing values\n",
        "df[\"Age\"].fillna(df[\"Age\"].median(), inplace=True)\n",
        "df[\"Fare\"].fillna(df[\"Fare\"].median(), inplace=True)\n",
        "\n",
        "# Encode categorical variables\n",
        "df[\"Sex\"] = LabelEncoder().fit_transform(df[\"Sex\"])\n",
        "df = pd.get_dummies(df, columns=[\"Embarked\"], drop_first=True)  # One-hot encoding\n",
        "\n",
        "# Define features and target variable\n",
        "X = df.drop(columns=[\"Survived\"])\n",
        "y = df[\"Survived\"]\n",
        "\n",
        "# Split data into training and testing sets\n",
        "X_train, X_test, y_train, y_test = train_test_split(X, y, test_size=0.2, random_state=42)\n",
        "\n",
        "# Normalize numerical features\n",
        "scaler = StandardScaler()\n",
        "X_train[[\"Age\", \"Fare\"]] = scaler.fit_transform(X_train[[\"Age\", \"Fare\"]])\n",
        "X_test[[\"Age\", \"Fare\"]] = scaler.transform(X_test[[\"Age\", \"Fare\"]])\n",
        "\n",
        "# Train model\n",
        "model = RandomForestClassifier(n_estimators=100, random_state=42)\n",
        "model.fit(X_train, y_train)\n",
        "\n",
        "# Predictions and evaluation\n",
        "y_pred = model.predict(X_test)\n",
        "accuracy = accuracy_score(y_test, y_pred)\n",
        "report = classification_report(y_test, y_pred)\n",
        "\n",
        "accuracy, report\n"
      ],
      "metadata": {
        "colab": {
          "base_uri": "https://localhost:8080/"
        },
        "id": "u3aef53ySAF0",
        "outputId": "b8fe2269-6594-46c3-c11e-45c0bb1cb019"
      },
      "execution_count": 9,
      "outputs": [
        {
          "output_type": "stream",
          "name": "stderr",
          "text": [
            "<ipython-input-9-ef14b145a0f2>:10: FutureWarning: A value is trying to be set on a copy of a DataFrame or Series through chained assignment using an inplace method.\n",
            "The behavior will change in pandas 3.0. This inplace method will never work because the intermediate object on which we are setting values always behaves as a copy.\n",
            "\n",
            "For example, when doing 'df[col].method(value, inplace=True)', try using 'df.method({col: value}, inplace=True)' or df[col] = df[col].method(value) instead, to perform the operation inplace on the original object.\n",
            "\n",
            "\n",
            "  df[\"Age\"].fillna(df[\"Age\"].median(), inplace=True)\n",
            "<ipython-input-9-ef14b145a0f2>:11: FutureWarning: A value is trying to be set on a copy of a DataFrame or Series through chained assignment using an inplace method.\n",
            "The behavior will change in pandas 3.0. This inplace method will never work because the intermediate object on which we are setting values always behaves as a copy.\n",
            "\n",
            "For example, when doing 'df[col].method(value, inplace=True)', try using 'df.method({col: value}, inplace=True)' or df[col] = df[col].method(value) instead, to perform the operation inplace on the original object.\n",
            "\n",
            "\n",
            "  df[\"Fare\"].fillna(df[\"Fare\"].median(), inplace=True)\n"
          ]
        },
        {
          "output_type": "execute_result",
          "data": {
            "text/plain": [
              "(1.0,\n",
              " '              precision    recall  f1-score   support\\n\\n           0       1.00      1.00      1.00        50\\n           1       1.00      1.00      1.00        34\\n\\n    accuracy                           1.00        84\\n   macro avg       1.00      1.00      1.00        84\\nweighted avg       1.00      1.00      1.00        84\\n')"
            ]
          },
          "metadata": {},
          "execution_count": 9
        }
      ]
    }
  ]
}